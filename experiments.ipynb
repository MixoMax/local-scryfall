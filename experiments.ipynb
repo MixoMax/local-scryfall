{
 "cells": [
  {
   "cell_type": "code",
   "execution_count": 1,
   "id": "783eb3ef",
   "metadata": {},
   "outputs": [],
   "source": [
    "from scryfall_bulk_importer import load_data\n",
    "from scryfall_syntax_parser import query_to_filter, print_filters, apply_filters\n",
    "import json"
   ]
  },
  {
   "cell_type": "code",
   "execution_count": 2,
   "id": "b174d078",
   "metadata": {},
   "outputs": [],
   "source": [
    "cards = load_data(\"cards.json\")"
   ]
  },
  {
   "cell_type": "code",
   "execution_count": 3,
   "id": "00bc1323",
   "metadata": {},
   "outputs": [
    {
     "name": "stdout",
     "output_type": "stream",
     "text": [
      "legal_formats%=commander ^ (¬t=Land) ^ t%=land ^ t%=land ^ t%=land\n"
     ]
    }
   ],
   "source": [
    "q = \"f:commander -type_line=Land t:land t:land t:land\"\n",
    "f = query_to_filter(q, debug_print=False)\n",
    "print_filters(f)"
   ]
  }
 ],
 "metadata": {
  "kernelspec": {
   "display_name": "base",
   "language": "python",
   "name": "python3"
  },
  "language_info": {
   "codemirror_mode": {
    "name": "ipython",
    "version": 3
   },
   "file_extension": ".py",
   "mimetype": "text/x-python",
   "name": "python",
   "nbconvert_exporter": "python",
   "pygments_lexer": "ipython3",
   "version": "3.12.3"
  }
 },
 "nbformat": 4,
 "nbformat_minor": 5
}
