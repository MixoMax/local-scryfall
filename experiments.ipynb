{
 "cells": [
  {
   "cell_type": "code",
   "execution_count": 1,
   "id": "808086fc",
   "metadata": {},
   "outputs": [],
   "source": [
    "import sqlite3\n",
    "from scryfall_syntax_parser import apply_filters, query_to_filter, print_filters"
   ]
  },
  {
   "cell_type": "code",
   "execution_count": 2,
   "id": "3f6eb8d0",
   "metadata": {},
   "outputs": [],
   "source": [
    "conn = sqlite3.connect(\"scryfall_new.db\", check_same_thread=False)\n",
    "cur = conn.cursor()"
   ]
  },
  {
   "cell_type": "code",
   "execution_count": 3,
   "id": "0ee80aa4",
   "metadata": {},
   "outputs": [],
   "source": [
    "rows = cur.execute(\"SELECT * FROM cards\").fetchall()\n",
    "keys = [\"name\", \"mana_cost\", \"cmc\", \"type_line\", \"oracle_text\", \"power\", \"toughness\", \"loyalty\", \"img_file_name\"]\n",
    "types = [str, str, int, str, str, int, int, int, str]\n",
    "data = []\n",
    "for row in rows:\n",
    "    row_data = []\n",
    "    for i, key in enumerate(keys):\n",
    "        value = row[i]\n",
    "        try:\n",
    "            value = types[i](value)\n",
    "        except:\n",
    "            value = str(value)\n",
    "        row_data.append(value)\n",
    "    data.append({key: value for key, value in zip(keys, row_data)})"
   ]
  },
  {
   "cell_type": "code",
   "execution_count": 4,
   "id": "7486fcad",
   "metadata": {},
   "outputs": [
    {
     "name": "stdout",
     "output_type": "stream",
     "text": [
      "LogicalFilter(operator=LogicalOperator.OR, filters=[Filter(key=type_line, value=creature, operator=Operator.CONTAINS), LogicalFilter(operator=LogicalOperator.AND, filters=[Filter(key=type_line, value=planeswalker, operator=Operator.CONTAINS), Filter(key=mana_cost, value=4, operator=Operator.EQUALS)])])\n",
      "t%=creature v (t%=planeswalker ^ mana_cost=4)\n"
     ]
    }
   ],
   "source": [
    "q = \"t:creature OR t:planeswalker AND cmc:4\"\n",
    "f = query_to_filter(q)\n",
    "print(f)\n",
    "print_filters(f)"
   ]
  }
 ],
 "metadata": {
  "kernelspec": {
   "display_name": "base",
   "language": "python",
   "name": "python3"
  },
  "language_info": {
   "codemirror_mode": {
    "name": "ipython",
    "version": 3
   },
   "file_extension": ".py",
   "mimetype": "text/x-python",
   "name": "python",
   "nbconvert_exporter": "python",
   "pygments_lexer": "ipython3",
   "version": "3.12.3"
  }
 },
 "nbformat": 4,
 "nbformat_minor": 5
}
