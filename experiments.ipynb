{
 "cells": [
  {
   "cell_type": "code",
   "execution_count": 1,
   "id": "a6c91971",
   "metadata": {},
   "outputs": [],
   "source": [
    "from scryfall_bulk_importer import load_data"
   ]
  },
  {
   "cell_type": "code",
   "execution_count": 2,
   "id": "dd16ba71",
   "metadata": {},
   "outputs": [],
   "source": [
    "ALL_CARDS = load_data(\"./cards.json\")"
   ]
  },
  {
   "cell_type": "code",
   "execution_count": 3,
   "id": "d474d757",
   "metadata": {},
   "outputs": [],
   "source": [
    "set_code = \"acmm\""
   ]
  },
  {
   "cell_type": "code",
   "execution_count": 6,
   "id": "e9197ca8",
   "metadata": {},
   "outputs": [
    {
     "name": "stdout",
     "output_type": "stream",
     "text": [
      "2 cards found in set acmm\n",
      "Command Tower // Command Tower ['acmm', 'rex'] common ['standardbrawl']\n",
      "Arcane Signet // Arcane Signet ['acmm'] common ['standardbrawl']\n"
     ]
    }
   ],
   "source": [
    "set_cards = [card for card in ALL_CARDS if set_code in card.get(\"set\", []) and len(card.get(\"legal_formats\", [])) != 0]\n",
    "print(len(set_cards), \"cards found in set\", set_code)\n",
    "for card in set_cards:\n",
    "    print(card[\"name\"], card[\"set\"], card[\"rarity\"], card[\"legal_formats\"])"
   ]
  }
 ],
 "metadata": {
  "kernelspec": {
   "display_name": "base",
   "language": "python",
   "name": "python3"
  },
  "language_info": {
   "codemirror_mode": {
    "name": "ipython",
    "version": 3
   },
   "file_extension": ".py",
   "mimetype": "text/x-python",
   "name": "python",
   "nbconvert_exporter": "python",
   "pygments_lexer": "ipython3",
   "version": "3.12.3"
  }
 },
 "nbformat": 4,
 "nbformat_minor": 5
}
