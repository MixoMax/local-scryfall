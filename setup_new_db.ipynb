{
 "cells": [
  {
   "cell_type": "code",
   "execution_count": 1,
   "id": "6c63d5e6",
   "metadata": {},
   "outputs": [],
   "source": [
    "import sqlite3\n",
    "from PIL import Image\n",
    "from io import BytesIO\n",
    "import base64\n",
    "from tqdm import tqdm"
   ]
  },
  {
   "cell_type": "code",
   "execution_count": 2,
   "id": "651d762f",
   "metadata": {},
   "outputs": [],
   "source": [
    "conn = sqlite3.connect(\"scryfall.db\", check_same_thread=False)\n",
    "cur = conn.cursor()\n",
    "\n",
    "new_conn = sqlite3.connect(\"scryfall_new.db\", check_same_thread=False)\n",
    "new_cur = new_conn.cursor()\n",
    "\n",
    "cmd = \"\"\"\n",
    "CREATE TABLE IF NOT EXISTS cards (\n",
    "    name TEXT PRIMARY KEY,\n",
    "    mana_cost TEXT,\n",
    "    cmc INTEGER,\n",
    "    type_line TEXT,\n",
    "    oracle_text TEXT,\n",
    "    power INTEGER,\n",
    "    toughness INTEGER,\n",
    "    loyalty INTEGER,\n",
    "    img_file_name TEXT\n",
    ");\n",
    "\"\"\"\n",
    "\n",
    "new_cur.execute(cmd)\n",
    "new_conn.commit()"
   ]
  },
  {
   "cell_type": "code",
   "execution_count": 3,
   "id": "c0df383d",
   "metadata": {},
   "outputs": [],
   "source": [
    "not_allowed = [\" \", \"\\\\\", \"/\", \":\", \"*\", \"?\", '\"', \"<\", \">\", \"|\", \"'\", \"(\", \")\", \",\", \"!\", \"@\", \"#\", \"$\", \"%\", \"^\", \"&\", \"`\", \"~\"]\n",
    "\n",
    "def card_name_to_filename(name):\n",
    "    file_path: str = name\n",
    "    for char in not_allowed:\n",
    "        file_path = file_path.replace(char, \"-\")\n",
    "    while \"--\" in file_path:\n",
    "        file_path = file_path.replace(\"--\", \"-\")\n",
    "    if file_path.endswith(\"-\"):\n",
    "        file_path = file_path[:-1]\n",
    "    if file_path.endswith(\".\"):\n",
    "        file_path = file_path[:-1]\n",
    "    return file_path + \".webp\""
   ]
  },
  {
   "cell_type": "code",
   "execution_count": 4,
   "id": "0447f24f",
   "metadata": {},
   "outputs": [
    {
     "name": "stderr",
     "output_type": "stream",
     "text": [
      "Processing cards: 100%|██████████| 29220/29220 [00:00<00:00, 79406.39it/s]\n"
     ]
    }
   ],
   "source": [
    "q = \"SELECT name, mana_cost, cmc, type_line, oracle_text, power, toughness, loyalty FROM cards\"\n",
    "cur.execute(q)\n",
    "rows = cur.fetchall()\n",
    "\n",
    "for idx, row in tqdm(enumerate(rows), total=len(rows), desc=\"Processing cards\"):\n",
    "    new_row = list(row)\n",
    "    img_path = card_name_to_filename(row[0])\n",
    "    new_row.append(img_path)\n",
    "    new_cur.execute(\"INSERT INTO cards VALUES (?, ?, ?, ?, ?, ?, ?, ?, ?)\", new_row)\n",
    "\n",
    "    if idx % 1000 == 0:\n",
    "        conn.commit()\n",
    "\n",
    "new_conn.commit()\n"
   ]
  }
 ],
 "metadata": {
  "kernelspec": {
   "display_name": "base",
   "language": "python",
   "name": "python3"
  },
  "language_info": {
   "codemirror_mode": {
    "name": "ipython",
    "version": 3
   },
   "file_extension": ".py",
   "mimetype": "text/x-python",
   "name": "python",
   "nbconvert_exporter": "python",
   "pygments_lexer": "ipython3",
   "version": "3.12.3"
  }
 },
 "nbformat": 4,
 "nbformat_minor": 5
}
