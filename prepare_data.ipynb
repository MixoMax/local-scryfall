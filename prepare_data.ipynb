{
 "cells": [
  {
   "cell_type": "code",
   "execution_count": 1,
   "id": "9666f02f",
   "metadata": {},
   "outputs": [],
   "source": [
    "import json\n",
    "import requests\n",
    "from tqdm import tqdm\n",
    "from PIL import Image"
   ]
  },
  {
   "cell_type": "code",
   "execution_count": 2,
   "id": "96be3f02",
   "metadata": {},
   "outputs": [],
   "source": [
    "def card_name_to_file_name(card_name):\n",
    "    card_name = card_name.replace(\" \", \"-\")\n",
    "\n",
    "    card_name = \"\".join([char for char in card_name if char in \"abcdefghijklmnopqrstuvwxyzABCDEFGHIJKLMNOPQRSTUVWXYZ0123456789-_\"])\n",
    "\n",
    "    while \"--\" in card_name:\n",
    "        card_name = card_name.replace(\"--\", \"-\")\n",
    "    while card_name.startswith(\"-\"):\n",
    "        card_name = card_name[1:]\n",
    "    while card_name.endswith(\"-\"):\n",
    "        card_name = card_name[:-1]\n",
    "    return card_name.strip(\"-\").lower()"
   ]
  },
  {
   "cell_type": "code",
   "execution_count": 3,
   "id": "1e010811",
   "metadata": {},
   "outputs": [],
   "source": [
    "with open(\"./oracle-cards-20250608210949.json\", \"r\") as f:\n",
    "    cards = json.load(f)"
   ]
  },
  {
   "cell_type": "code",
   "execution_count": 4,
   "id": "3f1ca9c6",
   "metadata": {},
   "outputs": [
    {
     "name": "stderr",
     "output_type": "stream",
     "text": [
      "100%|██████████| 34984/34984 [00:01<00:00, 31110.68it/s]\n"
     ]
    }
   ],
   "source": [
    "data_out = []\n",
    "\n",
    "for card in tqdm(cards):\n",
    "    data_out.append({\n",
    "        \"name\": card[\"name\"],\n",
    "        \"safe_name\": card_name_to_file_name(card[\"name\"]),\n",
    "        \"file_name\": card_name_to_file_name(card[\"name\"] + \"-\" + card[\"type_line\"]) + \".webp\",\n",
    "        \"released-at\": card[\"released_at\"],\n",
    "        \"year\": int(card[\"released_at\"].split(\"-\")[0]),\n",
    "        \"mana_cost\": card.get(\"mana_cost\", \"\"),\n",
    "        \"cmc\": card.get(\"cmc\", 0),\n",
    "        \"type_line\": card.get(\"type_line\", \"\"),\n",
    "        \"oracle_text\": card.get(\"oracle_text\", \"\"),\n",
    "        \"power\": card.get(\"power\", \"\"),\n",
    "        \"toughness\": card.get(\"toughness\", \"\"),\n",
    "        \"loyalty\": card.get(\"loyalty\", \"\"),\n",
    "        \"colors\": card.get(\"colors\", []),\n",
    "        \"color_identity\": card.get(\"color_identity\", []),\n",
    "        \"keywords\": card.get(\"keywords\", []),\n",
    "        \"set\": card.get(\"set\", \"\"),\n",
    "        \"rarity\": card.get(\"rarity\", \"\"),\n",
    "        \"edhrec_rank\": card.get(\"edhrec_rank\", 0),\n",
    "        \"price_euro\": card.get(\"prices\", {}).get(\"eur\", 0.0),\n",
    "        \"price_usd\": card.get(\"prices\", {}).get(\"usd\", 0.0),\n",
    "        \"legal_formats\": [fmt_str for fmt_str, legal in card.get(\"legalities\", {}).items() if legal == \"legal\"],\n",
    "    })\n",
    "\n",
    "with open(\"./cards.json\", \"w\") as f:\n",
    "    json.dump(data_out, f, indent=4, ensure_ascii=False)\n"
   ]
  }
 ],
 "metadata": {
  "kernelspec": {
   "display_name": "base",
   "language": "python",
   "name": "python3"
  },
  "language_info": {
   "codemirror_mode": {
    "name": "ipython",
    "version": 3
   },
   "file_extension": ".py",
   "mimetype": "text/x-python",
   "name": "python",
   "nbconvert_exporter": "python",
   "pygments_lexer": "ipython3",
   "version": "3.12.3"
  }
 },
 "nbformat": 4,
 "nbformat_minor": 5
}
